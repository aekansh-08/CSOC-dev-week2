{
  "nbformat": 4,
  "nbformat_minor": 0,
  "metadata": {
    "colab": {
      "name": "Untitled8.ipynb",
      "provenance": [],
      "authorship_tag": "ABX9TyNtmlzrpaAx7gaUVafSmGhs",
      "include_colab_link": true
    },
    "kernelspec": {
      "name": "python3",
      "display_name": "Python 3"
    },
    "accelerator": "GPU"
  },
  "cells": [
    {
      "cell_type": "markdown",
      "metadata": {
        "id": "view-in-github",
        "colab_type": "text"
      },
      "source": [
        "<a href=\"https://colab.research.google.com/github/aekansh-08/CSOC-dev-week2/blob/master/cnn_keras.ipynb\" target=\"_parent\"><img src=\"https://colab.research.google.com/assets/colab-badge.svg\" alt=\"Open In Colab\"/></a>"
      ]
    },
    {
      "cell_type": "code",
      "metadata": {
        "id": "pxygwtl5Sp9I",
        "colab_type": "code",
        "colab": {
          "base_uri": "https://localhost:8080/",
          "height": 34
        },
        "outputId": "c99ff8ba-7ce2-4611-dedc-83eec9a4ffb5"
      },
      "source": [
        "from keras.datasets import mnist\n",
        "from keras.models import Sequential\n",
        "from keras.layers import Conv2D, MaxPooling2D, Dropout, Dense, Flatten\n",
        "from keras.utils import np_utils\n",
        "\n"
      ],
      "execution_count": 9,
      "outputs": [
        {
          "output_type": "stream",
          "text": [
            "Using TensorFlow backend.\n"
          ],
          "name": "stderr"
        }
      ]
    },
    {
      "cell_type": "code",
      "metadata": {
        "id": "KwjnWcijTjVR",
        "colab_type": "code",
        "colab": {
          "base_uri": "https://localhost:8080/",
          "height": 1000
        },
        "outputId": "d7df23b5-81fb-414e-c056-4818021188d2"
      },
      "source": [
        "pip install wandb"
      ],
      "execution_count": 10,
      "outputs": [
        {
          "output_type": "stream",
          "text": [
            "Collecting wandb\n",
            "\u001b[?25l  Downloading https://files.pythonhosted.org/packages/68/dd/ce719d36c4172b56c7579a79fcfd2f731c386b39f258bb186ef17b73fd7d/wandb-0.8.32-py2.py3-none-any.whl (1.4MB)\n",
            "\u001b[K     |████████████████████████████████| 1.4MB 2.5MB/s \n",
            "\u001b[?25hRequirement already satisfied: PyYAML>=3.10 in /usr/local/lib/python3.6/dist-packages (from wandb) (3.13)\n",
            "Requirement already satisfied: python-dateutil>=2.6.1 in /usr/local/lib/python3.6/dist-packages (from wandb) (2.8.1)\n",
            "Collecting shortuuid>=0.5.0\n",
            "  Downloading https://files.pythonhosted.org/packages/25/a6/2ecc1daa6a304e7f1b216f0896b26156b78e7c38e1211e9b798b4716c53d/shortuuid-1.0.1-py3-none-any.whl\n",
            "Requirement already satisfied: six>=1.10.0 in /usr/local/lib/python3.6/dist-packages (from wandb) (1.12.0)\n",
            "Collecting watchdog>=0.8.3\n",
            "\u001b[?25l  Downloading https://files.pythonhosted.org/packages/73/c3/ed6d992006837e011baca89476a4bbffb0a91602432f73bd4473816c76e2/watchdog-0.10.2.tar.gz (95kB)\n",
            "\u001b[K     |████████████████████████████████| 102kB 9.1MB/s \n",
            "\u001b[?25hCollecting subprocess32>=3.5.3\n",
            "\u001b[?25l  Downloading https://files.pythonhosted.org/packages/32/c8/564be4d12629b912ea431f1a50eb8b3b9d00f1a0b1ceff17f266be190007/subprocess32-3.5.4.tar.gz (97kB)\n",
            "\u001b[K     |████████████████████████████████| 102kB 8.7MB/s \n",
            "\u001b[?25hCollecting docker-pycreds>=0.4.0\n",
            "  Downloading https://files.pythonhosted.org/packages/f5/e8/f6bd1eee09314e7e6dee49cbe2c5e22314ccdb38db16c9fc72d2fa80d054/docker_pycreds-0.4.0-py2.py3-none-any.whl\n",
            "Collecting configparser>=3.8.1\n",
            "  Downloading https://files.pythonhosted.org/packages/4b/6b/01baa293090240cf0562cc5eccb69c6f5006282127f2b846fad011305c79/configparser-5.0.0-py3-none-any.whl\n",
            "Requirement already satisfied: requests>=2.0.0 in /usr/local/lib/python3.6/dist-packages (from wandb) (2.21.0)\n",
            "Requirement already satisfied: Click>=7.0 in /usr/local/lib/python3.6/dist-packages (from wandb) (7.1.1)\n",
            "Collecting gql==0.2.0\n",
            "  Downloading https://files.pythonhosted.org/packages/c4/6f/cf9a3056045518f06184e804bae89390eb706168349daa9dff8ac609962a/gql-0.2.0.tar.gz\n",
            "Collecting GitPython>=1.0.0\n",
            "\u001b[?25l  Downloading https://files.pythonhosted.org/packages/19/1a/0df85d2bddbca33665d2148173d3281b290ac054b5f50163ea735740ac7b/GitPython-3.1.1-py3-none-any.whl (450kB)\n",
            "\u001b[K     |████████████████████████████████| 460kB 11.4MB/s \n",
            "\u001b[?25hRequirement already satisfied: nvidia-ml-py3>=7.352.0 in /usr/local/lib/python3.6/dist-packages (from wandb) (7.352.0)\n",
            "Collecting sentry-sdk>=0.4.0\n",
            "\u001b[?25l  Downloading https://files.pythonhosted.org/packages/20/7e/19545324e83db4522b885808cd913c3b93ecc0c88b03e037b78c6a417fa8/sentry_sdk-0.14.3-py2.py3-none-any.whl (103kB)\n",
            "\u001b[K     |████████████████████████████████| 112kB 20.0MB/s \n",
            "\u001b[?25hRequirement already satisfied: psutil>=5.0.0 in /usr/local/lib/python3.6/dist-packages (from wandb) (5.4.8)\n",
            "Collecting pathtools>=0.1.1\n",
            "  Downloading https://files.pythonhosted.org/packages/e7/7f/470d6fcdf23f9f3518f6b0b76be9df16dcc8630ad409947f8be2eb0ed13a/pathtools-0.1.2.tar.gz\n",
            "Requirement already satisfied: idna<2.9,>=2.5 in /usr/local/lib/python3.6/dist-packages (from requests>=2.0.0->wandb) (2.8)\n",
            "Requirement already satisfied: certifi>=2017.4.17 in /usr/local/lib/python3.6/dist-packages (from requests>=2.0.0->wandb) (2020.4.5.1)\n",
            "Requirement already satisfied: chardet<3.1.0,>=3.0.2 in /usr/local/lib/python3.6/dist-packages (from requests>=2.0.0->wandb) (3.0.4)\n",
            "Requirement already satisfied: urllib3<1.25,>=1.21.1 in /usr/local/lib/python3.6/dist-packages (from requests>=2.0.0->wandb) (1.24.3)\n",
            "Collecting graphql-core<2,>=0.5.0\n",
            "\u001b[?25l  Downloading https://files.pythonhosted.org/packages/b0/89/00ad5e07524d8c523b14d70c685e0299a8b0de6d0727e368c41b89b7ed0b/graphql-core-1.1.tar.gz (70kB)\n",
            "\u001b[K     |████████████████████████████████| 71kB 7.0MB/s \n",
            "\u001b[?25hRequirement already satisfied: promise<3,>=2.0 in /usr/local/lib/python3.6/dist-packages (from gql==0.2.0->wandb) (2.3)\n",
            "Collecting gitdb<5,>=4.0.1\n",
            "\u001b[?25l  Downloading https://files.pythonhosted.org/packages/74/52/ca35448b56c53a079d3ffe18b1978c6e424f6d4df02404877094c89f5bfb/gitdb-4.0.4-py3-none-any.whl (63kB)\n",
            "\u001b[K     |████████████████████████████████| 71kB 8.6MB/s \n",
            "\u001b[?25hCollecting smmap<4,>=3.0.1\n",
            "  Downloading https://files.pythonhosted.org/packages/27/b1/e379cfb7c07bbf8faee29c4a1a2469dbea525f047c2b454c4afdefa20a30/smmap-3.0.2-py2.py3-none-any.whl\n",
            "Building wheels for collected packages: watchdog, subprocess32, gql, pathtools, graphql-core\n",
            "  Building wheel for watchdog (setup.py) ... \u001b[?25l\u001b[?25hdone\n",
            "  Created wheel for watchdog: filename=watchdog-0.10.2-cp36-none-any.whl size=73605 sha256=69880107d84dc84bf011bc9aad5ac4ac7842898f5b18691d0ac27518feaa6869\n",
            "  Stored in directory: /root/.cache/pip/wheels/bc/ed/6c/028dea90d31b359cd2a7c8b0da4db80e41d24a59614154072e\n",
            "  Building wheel for subprocess32 (setup.py) ... \u001b[?25l\u001b[?25hdone\n",
            "  Created wheel for subprocess32: filename=subprocess32-3.5.4-cp36-none-any.whl size=6489 sha256=b249a757af66f8c2476c0271a42f88425bbbea26fc7112beedcb7cc5a75b6b00\n",
            "  Stored in directory: /root/.cache/pip/wheels/68/39/1a/5e402bdfdf004af1786c8b853fd92f8c4a04f22aad179654d1\n",
            "  Building wheel for gql (setup.py) ... \u001b[?25l\u001b[?25hdone\n",
            "  Created wheel for gql: filename=gql-0.2.0-cp36-none-any.whl size=7630 sha256=b9fd0e87a948702079f958c64eafefb2f46fe0c5b946dc425086388629fe803a\n",
            "  Stored in directory: /root/.cache/pip/wheels/ce/0e/7b/58a8a5268655b3ad74feef5aa97946f0addafb3cbb6bd2da23\n",
            "  Building wheel for pathtools (setup.py) ... \u001b[?25l\u001b[?25hdone\n",
            "  Created wheel for pathtools: filename=pathtools-0.1.2-cp36-none-any.whl size=8784 sha256=2a7e7d452d8e7a6e96eaba61a37c88cb7173c5372a141ed8828c8b425c190942\n",
            "  Stored in directory: /root/.cache/pip/wheels/0b/04/79/c3b0c3a0266a3cb4376da31e5bfe8bba0c489246968a68e843\n",
            "  Building wheel for graphql-core (setup.py) ... \u001b[?25l\u001b[?25hdone\n",
            "  Created wheel for graphql-core: filename=graphql_core-1.1-cp36-none-any.whl size=104650 sha256=16309a9173fa9a3a502a7dcfd96e3a3304f0912c862d65cb48aee21b68cbd3db\n",
            "  Stored in directory: /root/.cache/pip/wheels/45/99/d7/c424029bb0fe910c63b68dbf2aa20d3283d023042521bcd7d5\n",
            "Successfully built watchdog subprocess32 gql pathtools graphql-core\n",
            "Installing collected packages: shortuuid, pathtools, watchdog, subprocess32, docker-pycreds, configparser, graphql-core, gql, smmap, gitdb, GitPython, sentry-sdk, wandb\n",
            "Successfully installed GitPython-3.1.1 configparser-5.0.0 docker-pycreds-0.4.0 gitdb-4.0.4 gql-0.2.0 graphql-core-1.1 pathtools-0.1.2 sentry-sdk-0.14.3 shortuuid-1.0.1 smmap-3.0.2 subprocess32-3.5.4 wandb-0.8.32 watchdog-0.10.2\n"
          ],
          "name": "stdout"
        }
      ]
    },
    {
      "cell_type": "code",
      "metadata": {
        "id": "fryOf0nYS73f",
        "colab_type": "code",
        "colab": {}
      },
      "source": [
        "\n",
        "from wandb.keras import WandbCallback\n",
        "import wandb\n",
        "import os\n"
      ],
      "execution_count": 0,
      "outputs": []
    },
    {
      "cell_type": "code",
      "metadata": {
        "id": "osE83eNMT2Uj",
        "colab_type": "code",
        "colab": {
          "base_uri": "https://localhost:8080/",
          "height": 136
        },
        "outputId": "53be6fa0-0686-44e7-bb94-48aa1a1490d3"
      },
      "source": [
        "run = wandb.init()\n",
        "config = run.config\n",
        "config.first_layer_convs = 32\n",
        "config.first_layer_conv_width = 3\n",
        "config.first_layer_conv_height = 3\n",
        "config.dropout = 0.2\n",
        "config.dense_layer_size = 100\n",
        "config.img_width = 28\n",
        "config.img_height = 28\n",
        "config.epochs = 50\n"
      ],
      "execution_count": 12,
      "outputs": [
        {
          "output_type": "display_data",
          "data": {
            "application/javascript": [
              "\n",
              "        window._wandbApiKey = new Promise((resolve, reject) => {\n",
              "            function loadScript(url) {\n",
              "            return new Promise(function(resolve, reject) {\n",
              "                let newScript = document.createElement(\"script\");\n",
              "                newScript.onerror = reject;\n",
              "                newScript.onload = resolve;\n",
              "                document.body.appendChild(newScript);\n",
              "                newScript.src = url;\n",
              "            });\n",
              "            }\n",
              "            loadScript(\"https://cdn.jsdelivr.net/npm/postmate/build/postmate.min.js\").then(() => {\n",
              "            const iframe = document.createElement('iframe')\n",
              "            iframe.style.cssText = \"width:0;height:0;border:none\"\n",
              "            document.body.appendChild(iframe)\n",
              "            const handshake = new Postmate({\n",
              "                container: iframe,\n",
              "                url: 'https://app.wandb.ai/authorize'\n",
              "            });\n",
              "            const timeout = setTimeout(() => reject(\"Couldn't auto authenticate\"), 5000)\n",
              "            handshake.then(function(child) {\n",
              "                child.on('authorize', data => {\n",
              "                    clearTimeout(timeout)\n",
              "                    resolve(data)\n",
              "                });\n",
              "            });\n",
              "            })\n",
              "        });\n",
              "    "
            ],
            "text/plain": [
              "<IPython.core.display.Javascript object>"
            ]
          },
          "metadata": {
            "tags": []
          }
        },
        {
          "output_type": "stream",
          "text": [
            "\u001b[34m\u001b[1mwandb\u001b[0m: \u001b[32m\u001b[41mERROR\u001b[0m Not authenticated.  Copy a key from https://app.wandb.ai/authorize\n"
          ],
          "name": "stderr"
        },
        {
          "output_type": "stream",
          "text": [
            "API Key: ··········\n"
          ],
          "name": "stdout"
        },
        {
          "output_type": "stream",
          "text": [
            "\u001b[34m\u001b[1mwandb\u001b[0m: Appending key for api.wandb.ai to your netrc file: /root/.netrc\n"
          ],
          "name": "stderr"
        },
        {
          "output_type": "display_data",
          "data": {
            "text/html": [
              "\n",
              "                Logging results to <a href=\"https://wandb.com\" target=\"_blank\">Weights & Biases</a> <a href=\"https://docs.wandb.com/integrations/jupyter.html\" target=\"_blank\">(Documentation)</a>.<br/>\n",
              "                Project page: <a href=\"https://app.wandb.ai/aekanshyadav8/uncategorized\" target=\"_blank\">https://app.wandb.ai/aekanshyadav8/uncategorized</a><br/>\n",
              "                Run page: <a href=\"https://app.wandb.ai/aekanshyadav8/uncategorized/runs/1msda3uv\" target=\"_blank\">https://app.wandb.ai/aekanshyadav8/uncategorized/runs/1msda3uv</a><br/>\n",
              "            "
            ],
            "text/plain": [
              "<IPython.core.display.HTML object>"
            ]
          },
          "metadata": {
            "tags": []
          }
        }
      ]
    },
    {
      "cell_type": "code",
      "metadata": {
        "id": "2jrJawVQTIsV",
        "colab_type": "code",
        "colab": {
          "base_uri": "https://localhost:8080/",
          "height": 52
        },
        "outputId": "8e6737db-60de-4434-c23e-0c42768cf8ea"
      },
      "source": [
        "(X_train, y_train), (X_test, y_test) = mnist.load_data()"
      ],
      "execution_count": 13,
      "outputs": [
        {
          "output_type": "stream",
          "text": [
            "Downloading data from https://s3.amazonaws.com/img-datasets/mnist.npz\n",
            "11493376/11490434 [==============================] - 1s 0us/step\n"
          ],
          "name": "stdout"
        }
      ]
    },
    {
      "cell_type": "code",
      "metadata": {
        "id": "YD_nyXvgUF2n",
        "colab_type": "code",
        "colab": {}
      },
      "source": [
        "X_train = X_train.astype('float32')\n",
        "X_train /= 255.\n",
        "X_test = X_test.astype('float32')\n",
        "X_test /= 255."
      ],
      "execution_count": 0,
      "outputs": []
    },
    {
      "cell_type": "code",
      "metadata": {
        "id": "GzJL1MykULMm",
        "colab_type": "code",
        "colab": {
          "base_uri": "https://localhost:8080/",
          "height": 34
        },
        "outputId": "7f80146b-c767-437d-d997-c305ad32759f"
      },
      "source": [
        "X_train.shape"
      ],
      "execution_count": 15,
      "outputs": [
        {
          "output_type": "execute_result",
          "data": {
            "text/plain": [
              "(60000, 28, 28)"
            ]
          },
          "metadata": {
            "tags": []
          },
          "execution_count": 15
        }
      ]
    },
    {
      "cell_type": "code",
      "metadata": {
        "id": "2lmSC-1zUaUM",
        "colab_type": "code",
        "colab": {}
      },
      "source": [
        "X_train = X_train.reshape(\n",
        "    X_train.shape[0], config.img_width, config.img_height, 1)\n",
        "X_test = X_test.reshape(\n",
        "    X_test.shape[0], config.img_width, config.img_height, 1)"
      ],
      "execution_count": 0,
      "outputs": []
    },
    {
      "cell_type": "code",
      "metadata": {
        "id": "CSf1GhKuUjX2",
        "colab_type": "code",
        "colab": {
          "base_uri": "https://localhost:8080/",
          "height": 34
        },
        "outputId": "73ae949e-6d1a-4c08-e744-f609e2475f7d"
      },
      "source": [
        "X_train.shape"
      ],
      "execution_count": 17,
      "outputs": [
        {
          "output_type": "execute_result",
          "data": {
            "text/plain": [
              "(60000, 28, 28, 1)"
            ]
          },
          "metadata": {
            "tags": []
          },
          "execution_count": 17
        }
      ]
    },
    {
      "cell_type": "code",
      "metadata": {
        "id": "NBP0OMYzUlpb",
        "colab_type": "code",
        "colab": {}
      },
      "source": [
        "y_train = np_utils.to_categorical(y_train)\n",
        "y_test = np_utils.to_categorical(y_test)\n",
        "num_classes = y_test.shape[1]\n",
        "labels = range(10)\n"
      ],
      "execution_count": 0,
      "outputs": []
    },
    {
      "cell_type": "code",
      "metadata": {
        "id": "CjVEi3qJUrYL",
        "colab_type": "code",
        "colab": {
          "base_uri": "https://localhost:8080/",
          "height": 34
        },
        "outputId": "321bea56-11dc-4b25-bb48-2c9c32f16baf"
      },
      "source": [
        "y_train.shape"
      ],
      "execution_count": 19,
      "outputs": [
        {
          "output_type": "execute_result",
          "data": {
            "text/plain": [
              "(60000, 10)"
            ]
          },
          "metadata": {
            "tags": []
          },
          "execution_count": 19
        }
      ]
    },
    {
      "cell_type": "code",
      "metadata": {
        "id": "LgcDBERNUu-L",
        "colab_type": "code",
        "colab": {
          "base_uri": "https://localhost:8080/",
          "height": 34
        },
        "outputId": "b1a267a2-086c-4a9e-ad2e-a4c1699fa179"
      },
      "source": [
        "y_test.shape"
      ],
      "execution_count": 20,
      "outputs": [
        {
          "output_type": "execute_result",
          "data": {
            "text/plain": [
              "(10000, 10)"
            ]
          },
          "metadata": {
            "tags": []
          },
          "execution_count": 20
        }
      ]
    },
    {
      "cell_type": "code",
      "metadata": {
        "id": "P0fbxYu3U07D",
        "colab_type": "code",
        "colab": {
          "base_uri": "https://localhost:8080/",
          "height": 514
        },
        "outputId": "01802e2a-dca0-4c9c-9067-e5bc876f3260"
      },
      "source": [
        "model = Sequential()\n",
        "model.add(Conv2D(32,\n",
        "                 (config.first_layer_conv_width, config.first_layer_conv_height),\n",
        "                 input_shape=(28, 28, 1),\n",
        "                 activation='relu')) #3x3 is the size of kernel and 1 bias for each kernel and we are putting 32 layers so the no of parameters are(32((3x3)+1))\n",
        "model.add(MaxPooling2D(pool_size=(2, 2)))\n",
        "model.add(Dropout(0.4))\n",
        "model.add(Conv2D(64,\n",
        "                 (3, 3),\n",
        "                 activation='relu'))\n",
        "model.add(MaxPooling2D(pool_size=(2, 2)))\n",
        "model.add(Dropout(0.4))\n",
        "model.add(Flatten())\n",
        "model.add(Dense(config.dense_layer_size, activation='relu'))\n",
        "model.add(Dropout(0.4))\n",
        "model.add(Dense(num_classes, activation='softmax'))\n",
        "\n",
        "model.compile(loss='categorical_crossentropy', optimizer='adam',\n",
        "              metrics=['accuracy'])\n",
        "model.summary()\n"
      ],
      "execution_count": 21,
      "outputs": [
        {
          "output_type": "stream",
          "text": [
            "Model: \"sequential_1\"\n",
            "_________________________________________________________________\n",
            "Layer (type)                 Output Shape              Param #   \n",
            "=================================================================\n",
            "conv2d_1 (Conv2D)            (None, 26, 26, 32)        320       \n",
            "_________________________________________________________________\n",
            "max_pooling2d_1 (MaxPooling2 (None, 13, 13, 32)        0         \n",
            "_________________________________________________________________\n",
            "dropout_1 (Dropout)          (None, 13, 13, 32)        0         \n",
            "_________________________________________________________________\n",
            "conv2d_2 (Conv2D)            (None, 11, 11, 64)        18496     \n",
            "_________________________________________________________________\n",
            "max_pooling2d_2 (MaxPooling2 (None, 5, 5, 64)          0         \n",
            "_________________________________________________________________\n",
            "dropout_2 (Dropout)          (None, 5, 5, 64)          0         \n",
            "_________________________________________________________________\n",
            "flatten_1 (Flatten)          (None, 1600)              0         \n",
            "_________________________________________________________________\n",
            "dense_1 (Dense)              (None, 100)               160100    \n",
            "_________________________________________________________________\n",
            "dropout_3 (Dropout)          (None, 100)               0         \n",
            "_________________________________________________________________\n",
            "dense_2 (Dense)              (None, 10)                1010      \n",
            "=================================================================\n",
            "Total params: 179,926\n",
            "Trainable params: 179,926\n",
            "Non-trainable params: 0\n",
            "_________________________________________________________________\n"
          ],
          "name": "stdout"
        }
      ]
    },
    {
      "cell_type": "code",
      "metadata": {
        "id": "M6Mmuk3XVAyE",
        "colab_type": "code",
        "colab": {
          "base_uri": "https://localhost:8080/",
          "height": 1000
        },
        "outputId": "af23288d-f2df-4986-8957-3701aa994651"
      },
      "source": [
        "model.fit(X_train, y_train, validation_data=(X_test, y_test),\n",
        "          epochs=config.epochs,\n",
        "          callbacks=[WandbCallback(data_type=\"image\", save_model=False)])"
      ],
      "execution_count": 22,
      "outputs": [
        {
          "output_type": "stream",
          "text": [
            "Train on 60000 samples, validate on 10000 samples\n",
            "Epoch 1/50\n",
            "60000/60000 [==============================] - 23s 381us/step - loss: 0.2842 - accuracy: 0.9101 - val_loss: 0.0550 - val_accuracy: 0.9826\n",
            "Epoch 2/50\n",
            "60000/60000 [==============================] - 17s 279us/step - loss: 0.1151 - accuracy: 0.9658 - val_loss: 0.0434 - val_accuracy: 0.9853\n",
            "Epoch 3/50\n",
            "60000/60000 [==============================] - 17s 281us/step - loss: 0.0930 - accuracy: 0.9722 - val_loss: 0.0326 - val_accuracy: 0.9891\n",
            "Epoch 4/50\n",
            "60000/60000 [==============================] - 17s 280us/step - loss: 0.0776 - accuracy: 0.9762 - val_loss: 0.0295 - val_accuracy: 0.9901\n",
            "Epoch 5/50\n",
            "60000/60000 [==============================] - 17s 281us/step - loss: 0.0712 - accuracy: 0.9790 - val_loss: 0.0270 - val_accuracy: 0.9910\n",
            "Epoch 6/50\n",
            "60000/60000 [==============================] - 17s 278us/step - loss: 0.0643 - accuracy: 0.9808 - val_loss: 0.0280 - val_accuracy: 0.9912\n",
            "Epoch 7/50\n",
            "60000/60000 [==============================] - 17s 278us/step - loss: 0.0622 - accuracy: 0.9811 - val_loss: 0.0295 - val_accuracy: 0.9900\n",
            "Epoch 8/50\n",
            "60000/60000 [==============================] - 17s 277us/step - loss: 0.0574 - accuracy: 0.9823 - val_loss: 0.0238 - val_accuracy: 0.9919\n",
            "Epoch 9/50\n",
            "60000/60000 [==============================] - 16s 274us/step - loss: 0.0547 - accuracy: 0.9835 - val_loss: 0.0258 - val_accuracy: 0.9907\n",
            "Epoch 10/50\n",
            "60000/60000 [==============================] - 16s 273us/step - loss: 0.0538 - accuracy: 0.9837 - val_loss: 0.0216 - val_accuracy: 0.9930\n",
            "Epoch 11/50\n",
            "60000/60000 [==============================] - 17s 282us/step - loss: 0.0509 - accuracy: 0.9837 - val_loss: 0.0260 - val_accuracy: 0.9912\n",
            "Epoch 12/50\n",
            "60000/60000 [==============================] - 16s 267us/step - loss: 0.0516 - accuracy: 0.9842 - val_loss: 0.0222 - val_accuracy: 0.9929\n",
            "Epoch 13/50\n",
            "60000/60000 [==============================] - 16s 261us/step - loss: 0.0487 - accuracy: 0.9854 - val_loss: 0.0212 - val_accuracy: 0.9935\n",
            "Epoch 14/50\n",
            "60000/60000 [==============================] - 16s 261us/step - loss: 0.0455 - accuracy: 0.9858 - val_loss: 0.0199 - val_accuracy: 0.9939\n",
            "Epoch 15/50\n",
            "60000/60000 [==============================] - 16s 261us/step - loss: 0.0433 - accuracy: 0.9865 - val_loss: 0.0214 - val_accuracy: 0.9926\n",
            "Epoch 16/50\n",
            "60000/60000 [==============================] - 16s 263us/step - loss: 0.0463 - accuracy: 0.9860 - val_loss: 0.0253 - val_accuracy: 0.9920\n",
            "Epoch 17/50\n",
            "60000/60000 [==============================] - 16s 273us/step - loss: 0.0439 - accuracy: 0.9859 - val_loss: 0.0200 - val_accuracy: 0.9931\n",
            "Epoch 18/50\n",
            "60000/60000 [==============================] - 17s 288us/step - loss: 0.0427 - accuracy: 0.9869 - val_loss: 0.0197 - val_accuracy: 0.9932\n",
            "Epoch 19/50\n",
            "60000/60000 [==============================] - 16s 272us/step - loss: 0.0423 - accuracy: 0.9869 - val_loss: 0.0214 - val_accuracy: 0.9936\n",
            "Epoch 20/50\n",
            "60000/60000 [==============================] - 16s 274us/step - loss: 0.0415 - accuracy: 0.9870 - val_loss: 0.0199 - val_accuracy: 0.9937\n",
            "Epoch 21/50\n",
            "60000/60000 [==============================] - 16s 270us/step - loss: 0.0404 - accuracy: 0.9869 - val_loss: 0.0212 - val_accuracy: 0.9939\n",
            "Epoch 22/50\n",
            "60000/60000 [==============================] - 16s 267us/step - loss: 0.0394 - accuracy: 0.9877 - val_loss: 0.0235 - val_accuracy: 0.9929\n",
            "Epoch 23/50\n",
            "60000/60000 [==============================] - 16s 274us/step - loss: 0.0420 - accuracy: 0.9868 - val_loss: 0.0266 - val_accuracy: 0.9926\n",
            "Epoch 24/50\n",
            "60000/60000 [==============================] - 16s 273us/step - loss: 0.0381 - accuracy: 0.9881 - val_loss: 0.0223 - val_accuracy: 0.9940\n",
            "Epoch 25/50\n",
            "60000/60000 [==============================] - 17s 276us/step - loss: 0.0389 - accuracy: 0.9879 - val_loss: 0.0208 - val_accuracy: 0.9937\n",
            "Epoch 26/50\n",
            "60000/60000 [==============================] - 17s 278us/step - loss: 0.0379 - accuracy: 0.9885 - val_loss: 0.0209 - val_accuracy: 0.9935\n",
            "Epoch 27/50\n",
            "60000/60000 [==============================] - 17s 278us/step - loss: 0.0379 - accuracy: 0.9879 - val_loss: 0.0190 - val_accuracy: 0.9939\n",
            "Epoch 28/50\n",
            "60000/60000 [==============================] - 16s 271us/step - loss: 0.0389 - accuracy: 0.9885 - val_loss: 0.0204 - val_accuracy: 0.9943\n",
            "Epoch 29/50\n",
            "60000/60000 [==============================] - 16s 272us/step - loss: 0.0380 - accuracy: 0.9880 - val_loss: 0.0212 - val_accuracy: 0.9934\n",
            "Epoch 30/50\n",
            "60000/60000 [==============================] - 17s 281us/step - loss: 0.0360 - accuracy: 0.9888 - val_loss: 0.0230 - val_accuracy: 0.9935\n",
            "Epoch 31/50\n",
            "60000/60000 [==============================] - 16s 268us/step - loss: 0.0369 - accuracy: 0.9888 - val_loss: 0.0209 - val_accuracy: 0.9943\n",
            "Epoch 32/50\n",
            "60000/60000 [==============================] - 16s 260us/step - loss: 0.0383 - accuracy: 0.9882 - val_loss: 0.0203 - val_accuracy: 0.9936\n",
            "Epoch 33/50\n",
            "60000/60000 [==============================] - 16s 267us/step - loss: 0.0378 - accuracy: 0.9882 - val_loss: 0.0210 - val_accuracy: 0.9930\n",
            "Epoch 34/50\n",
            "60000/60000 [==============================] - 15s 257us/step - loss: 0.0388 - accuracy: 0.9883 - val_loss: 0.0196 - val_accuracy: 0.9945\n",
            "Epoch 35/50\n",
            "60000/60000 [==============================] - 16s 271us/step - loss: 0.0367 - accuracy: 0.9886 - val_loss: 0.0204 - val_accuracy: 0.9936\n",
            "Epoch 36/50\n",
            "60000/60000 [==============================] - 17s 276us/step - loss: 0.0392 - accuracy: 0.9882 - val_loss: 0.0222 - val_accuracy: 0.9933\n",
            "Epoch 37/50\n",
            "60000/60000 [==============================] - 17s 288us/step - loss: 0.0372 - accuracy: 0.9886 - val_loss: 0.0241 - val_accuracy: 0.9924\n",
            "Epoch 38/50\n",
            "60000/60000 [==============================] - 16s 271us/step - loss: 0.0373 - accuracy: 0.9886 - val_loss: 0.0210 - val_accuracy: 0.9942\n",
            "Epoch 39/50\n",
            "60000/60000 [==============================] - 17s 280us/step - loss: 0.0352 - accuracy: 0.9890 - val_loss: 0.0260 - val_accuracy: 0.9931\n",
            "Epoch 40/50\n",
            "60000/60000 [==============================] - 17s 275us/step - loss: 0.0346 - accuracy: 0.9893 - val_loss: 0.0217 - val_accuracy: 0.9943\n",
            "Epoch 41/50\n",
            "60000/60000 [==============================] - 17s 276us/step - loss: 0.0345 - accuracy: 0.9892 - val_loss: 0.0233 - val_accuracy: 0.9937\n",
            "Epoch 42/50\n",
            "60000/60000 [==============================] - 16s 273us/step - loss: 0.0352 - accuracy: 0.9891 - val_loss: 0.0217 - val_accuracy: 0.9941\n",
            "Epoch 43/50\n",
            "60000/60000 [==============================] - 16s 275us/step - loss: 0.0340 - accuracy: 0.9896 - val_loss: 0.0222 - val_accuracy: 0.9939\n",
            "Epoch 44/50\n",
            "60000/60000 [==============================] - 17s 278us/step - loss: 0.0331 - accuracy: 0.9901 - val_loss: 0.0194 - val_accuracy: 0.9938\n",
            "Epoch 45/50\n",
            "60000/60000 [==============================] - 16s 274us/step - loss: 0.0345 - accuracy: 0.9897 - val_loss: 0.0198 - val_accuracy: 0.9938\n",
            "Epoch 46/50\n",
            "60000/60000 [==============================] - 16s 272us/step - loss: 0.0356 - accuracy: 0.9890 - val_loss: 0.0239 - val_accuracy: 0.9935\n",
            "Epoch 47/50\n",
            "60000/60000 [==============================] - 16s 273us/step - loss: 0.0368 - accuracy: 0.9887 - val_loss: 0.0229 - val_accuracy: 0.9929\n",
            "Epoch 48/50\n",
            "60000/60000 [==============================] - 17s 276us/step - loss: 0.0359 - accuracy: 0.9892 - val_loss: 0.0197 - val_accuracy: 0.9949\n",
            "Epoch 49/50\n",
            "60000/60000 [==============================] - 17s 275us/step - loss: 0.0333 - accuracy: 0.9901 - val_loss: 0.0202 - val_accuracy: 0.9943\n",
            "Epoch 50/50\n",
            "60000/60000 [==============================] - 18s 307us/step - loss: 0.0340 - accuracy: 0.9893 - val_loss: 0.0189 - val_accuracy: 0.9940\n"
          ],
          "name": "stdout"
        },
        {
          "output_type": "execute_result",
          "data": {
            "text/plain": [
              "<keras.callbacks.callbacks.History at 0x7f856a4719e8>"
            ]
          },
          "metadata": {
            "tags": []
          },
          "execution_count": 22
        }
      ]
    },
    {
      "cell_type": "markdown",
      "metadata": {
        "id": "ySheJEDjgbsm",
        "colab_type": "text"
      },
      "source": [
        ""
      ]
    },
    {
      "cell_type": "code",
      "metadata": {
        "id": "ExNGg3DXeFyS",
        "colab_type": "code",
        "colab": {}
      },
      "source": [
        ""
      ],
      "execution_count": 0,
      "outputs": []
    },
    {
      "cell_type": "code",
      "metadata": {
        "id": "LI8_hU_NZEuL",
        "colab_type": "code",
        "colab": {}
      },
      "source": [
        ""
      ],
      "execution_count": 0,
      "outputs": []
    }
  ]
}